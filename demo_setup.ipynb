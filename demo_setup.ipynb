{
 "cells": [
  {
   "cell_type": "code",
   "execution_count": null,
   "id": "initial_id",
   "metadata": {
    "collapsed": true
   },
   "outputs": [],
   "source": [
    "from theoden.datasets import WSIDataset\n",
    "\n",
    "WSIDataset(\"/path/to/bcss/files\", depth_metadata=[\"case\"]).save_as_tif(\"/new/tif/path\")"
   ]
  },
  {
   "cell_type": "code",
   "execution_count": null,
   "id": "9fadc16ce0d4f409",
   "metadata": {
    "collapsed": false
   },
   "outputs": [],
   "source": [
    "from theoden import GlobalContext\n",
    "from theoden.datasets import BCSSDataset\n",
    "import matplotlib.pyplot as plt\n",
    "\n",
    "GlobalContext().load_from_yaml(\"demo_context.yaml\")\n",
    "bcss_dataset = BCSSDataset()\n",
    "bcss_dataset.sample(vmin=0, vmax=22)\n",
    "plt.show()"
   ]
  }
 ],
 "metadata": {
  "kernelspec": {
   "display_name": "Python 3",
   "language": "python",
   "name": "python3"
  },
  "language_info": {
   "codemirror_mode": {
    "name": "ipython",
    "version": 2
   },
   "file_extension": ".py",
   "mimetype": "text/x-python",
   "name": "python",
   "nbconvert_exporter": "python",
   "pygments_lexer": "ipython2",
   "version": "2.7.6"
  }
 },
 "nbformat": 4,
 "nbformat_minor": 5
}
